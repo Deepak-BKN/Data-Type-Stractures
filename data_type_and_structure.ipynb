{
  "nbformat": 4,
  "nbformat_minor": 0,
  "metadata": {
    "colab": {
      "provenance": []
    },
    "kernelspec": {
      "name": "python3",
      "display_name": "Python 3"
    },
    "language_info": {
      "name": "python"
    }
  },
  "cells": [
    {
      "cell_type": "markdown",
      "source": [
        "1. What are data structures, and why are they important?\n",
        "  - Data structures in Python are fundamental ways to organize, store, and manage data efficiently, enabling optimized and scalable code, and Python offers built-in structures like lists, tuples, sets, and dictionaries, each with unique purposes.\n",
        "    - __Lists:__ Ordered, mutable collections of items.\n",
        "    - __Tuples:__ Ordered, immutable collections of items.\n",
        "    - __Sets:__ Unordered collections of unique elements.\n",
        "    - __Dictionaries:__ Store key-value pairs.\n",
        "    - __Other Structures:__ Python also supports more advanced structures like stacks, queues, trees, and graphs, which can be implemented using the basic data structures.  \n",
        "\n",
        "    __Importance:__\n",
        "Understanding data structures is essential for writing optimized and scalable code in Python.\n",
        "\n",
        "2.  Explain the difference between mutable and immutable data types with examples?\n",
        "  - In Python, mutable data types allow modification after creation (like lists), while immutable data types cannot be changed (like strings or tuples).  \n",
        "  ___Mutable Data Types:___  \n",
        "  __Definition:__ These data types allow their values to be changed after they are created.  \n",
        "_Examples:_  \n",
        "      __Lists:__ You can add, remove, or modify elements in a list.  \n",
        "        my_list = [1, 2, 3]  \n",
        "        my_list.append(4)  # Modifying the list  \n",
        "        print(my_list)  # Output: [1, 2, 3, 4]\n",
        "\n",
        "      __Dictionaries:__ You can add, remove, or modify key-value pairs in a dictionary.  \n",
        "        my_dict = {\"name\": \"Alice\", \"age\": 30}  \n",
        "        my_dict[\"city\"] = \"New York\"  # Modifying the dictionary  \n",
        "        print(my_dict)  # Output: {'name': 'Alice', 'age': 30, 'city': 'New York'}\n",
        "\n",
        "      __Sets:__ You can add or remove elements from a set.  \n",
        "        my_set = {1, 2, 3}  \n",
        "        my_set.add(4) # Modifying the set  \n",
        "        print(my_set) # Output: {1, 2, 3, 4}\n",
        "\n",
        "      ___Immutable Data Types:___  \n",
        "      __Definition:__ These data types cannot be altered once they are created.\n",
        "      _Examples:_  \n",
        "      __Strings:__ You cannot change individual characters in a string.  \n",
        "        my_string = \"Hello\"  \n",
        "        #my_string[0] = \"J\"   #This will cause an error  \n",
        "        new_string = \"J\" + my_string[1:]  # Create a new string  \n",
        "        print(new_string) # Output: Jello  \n",
        "        __Tuples:__ You cannot change the elements of a tuple after it's created.  \n",
        "        my_tuple = (1, 2, 3)  \n",
        "        #my_tuple[0] = 4  # This will cause an error  \n",
        "        new_tuple = (4, my_tuple[1], my_tuple[2])  # Create a new tuple\n",
        "        print(new_tuple) # Output: (4, 2, 3)  \n",
        "        __Numbers (integers, floats, etc.):__ Once a number is assigned, its value cannot be changed.  \n",
        "        my_int = 5  \n",
        "        #my_int = my_int + 1 # This will create a new integer, not modify the existing one  \n",
        "        new_int = my_int + 1  \n",
        "        print(new_int) # Output: 6\n",
        "\n",
        "3. What are the main differences between lists and tuples in Python?\n",
        "  - The main difference between lists and tuples in Python is that lists are mutable (can be changed after creation) while tuples are immutable (cannot be changed after creation).  \n",
        "  _Here's a more detailed breakdown:_  \n",
        "  ___Mutability:___  \n",
        "    - __Lists:__ You can add, remove, or modify elements in a list after it's created.  \n",
        "    - __Tuples:__ Once a tuple is created, its elements cannot be changed.  \n",
        "  ___Syntax:___  \n",
        "    - __Lists:__ Defined using square brackets [].  \n",
        "    - __Tuples:__ Defined using parentheses ().  \n",
        "  ___Performance:___  \n",
        "    - __Lists:__ Slower for iteration and more memory-intensive due to their mutability.  \n",
        "    - __Tuples:__ Faster for iteration and more memory-efficient due to their immutability.  \n",
        "  ___Use Cases:___  \n",
        "    - __Lists:__ Useful for situations where you need to modify the data structure, like adding or removing elements.  \n",
        "    - __Tuples:__ Best used when you need to guarantee that the data structure remains constant, like representing fixed sets of data.   \n",
        "  _Example:_  \n",
        "    __#List (mutable)__  \n",
        "    my_list = [1, 2, 3]  \n",
        "    my_list[0] = 4  # Change the first element  \n",
        "    print(my_list)  # Output: [4, 2, 3]\n",
        "\n",
        "        __#Tuple (immutable)__  \n",
        "    my_tuple = (1, 2, 3)  # my_tuple[0] = 4  # This will cause an error (TypeError)  \n",
        "    print(my_tuple)  # Output: (1, 2, 3)\n",
        "\n",
        "4. Describe how dictionaries store data.\n",
        "  -\n",
        "  In Python, dictionaries are implemented using a data structure called a hash table. This allows for efficient storage and retrieval of data using a unique key. Each key in a dictionary is associated with a value, and the dictionary itself is a collection of key-value pairs. Here's a detailed breakdown of how dictionaries store and manage data:  \n",
        "  __Hashing the Key__ When you insert a key-value pair into a Python dictionary, Python computes a hash value for the key using a built-in hashing function. This hash value is a numerical representation of the key, generated by applying a hash function to the key's data.  \n",
        "  _Example:_ If you insert a key like \"apple\", Python will compute a hash value based on the string \"apple\".  \n",
        "  The hash value is used to determine where in the dictionary’s internal structure (the hash table) the corresponding key-value pair will be stored.  \n",
        "  __Storing the Key-Value Pair__ After calculating the hash value, Python uses that value to map the key to a specific bucket or slot in the hash table (an array-like structure). Each bucket can hold one or more key-value pairs, depending on how the dictionary handles collisions.  \n",
        "  _Hash Table:_ The hash table is an array of \"buckets\" or \"slots,\" and each bucket corresponds to a hash value. The hash value is mapped to a specific index in this array.  \n",
        "  _Key-Value Pair:_ The key-value pair is stored in the appropriate bucket determined by the hash value.  \n",
        "  __Handling Collisions__ Sometimes, different keys might produce the same hash value, a scenario called a collision. Python’s dictionary implementation handles collisions efficiently using open addressing. This technique involves finding the next available slot if the original bucket (based on the hash) is already occupied.  \n",
        "  If a collision occurs, Python will probe the next available slot (this can be done through linear probing or other methods).  \n",
        "  Python then stores the key-value pair in the next available slot and ensures that the key-value pair can be retrieved later using the correct key.  \n",
        "  __Accessing Values__ When you access a value in a dictionary using a key, Python performs the following steps:  \n",
        "    - Compute the Hash: Python calculates the hash value of the key.  \n",
        "    - Find the Bucket: It uses the hash value to determine the correct bucket (index) where the key-value pair is stored.  \n",
        "    - Check for Matching Key: Python checks if the key in the computed bucket matches the key you're looking for. If there's a match, the associated value is returned.  \n",
        "    - Handling Collisions: If the hash value leads to a bucket with multiple key-value pairs due to a collision, Python will check each key in the bucket to find the correct key-value pair.\n",
        "    \n",
        "    __Resizing the Dictionary__ As you add more key-value pairs to a dictionary, the number of items increases. If the dictionary becomes too full (i.e., when the load factor exceeds a certain threshold), Python will resize the hash table to accommodate more items. This resizing process involves creating a new, larger hash table and rehashing all existing keys to the new table.\n",
        "\n",
        "5. Why might you use a set instead of a list in Python ?\n",
        "  - Because sets cannot have multiple occurrences of the same element, it makes sets highly useful to efficiently remove duplicate values from a list or tuple and to perform common math operations like unions and intersections.\n",
        "\n",
        "6. What is a string in Python, and how is it different from a list ?\n",
        "  - In Python, a string is an immutable sequence of characters enclosed in single or double quotes, while a list is a mutable, ordered collection of items (which can be of any data type) enclosed in square brackets.  \n",
        "  ___Strings:___ A string is a sequence of characters (letters, numbers, symbols, etc.).  \n",
        "  __Immutability:__ Once a string is created, its contents cannot be changed  \n",
        "  __Representation:__ Strings are enclosed in either single quotes (e.g., 'hello') or double quotes (e.g., \"world\"), or triple quotes (e.g., \"\"\"This is a string\"\"\").  \n",
        "  _Examples:_  \n",
        "  my_string = \"Hello\"  \n",
        "  another_string = 'World'  \n",
        "  multi_line = \"\"\"This is a multi-line string\"\"\"  \n",
        "  ___Lists:___ A list is an ordered collection of items, where each item can be of any data type (numbers, strings, other lists, etc.).  \n",
        "  __Mutability:__ Lists are mutable, meaning their contents can be modified after creation (e.g., adding, removing, or changing elements).  \n",
        "  __Representation:__ Lists are enclosed in square brackets (e.g., [1, 2, 3]).  \n",
        "  _Examples:_  \n",
        "  my_list =  \n",
        "  mixed_list = [1, \"hello\", 3.14, [4, 5]]\n",
        "\n",
        "7. How do tuples ensure data integrity in Python ?\n",
        "  - Tuples are immutable to ensure that their contents remain constant throughout their lifecycle, guaranteeing data integrity and reliability. This immutability allows tuples to be used as keys in dictionaries and elements in sets, as they can be hashed\n",
        "\n",
        "8. What is a hash table, and how does it relate to dictionaries in Python ?\n",
        "  - A hash table is a data structure that stores key-value pairs, using a hash function to map keys to specific locations (buckets) for fast retrieval, and Python dictionaries are implemented using hash tables.  \n",
        "  ___What is a Hash Table?___  \n",
        "    - Hash tables are a way to organize data for quick access, storing data in key-value pairs.\n",
        "    - They use a \"hash function\" to determine the location (index) of a key-value pair within the table.\n",
        "    - The hash function takes a key as input and produces a hash code (typically an integer) that is used to find the correct location in the table.\n",
        "    - This allows for very fast lookups, insertions, and deletions, typically in constant time (O(1)) on average.\n",
        "\n",
        "    ___How Dictionaries Relate to Hash Tables:___\n",
        "    - In Python, dictionaries are a built-in data type that uses hash tables as their underlying implementation.\n",
        "    - When you create a dictionary and add key-value pairs, Python uses a hash function to determine where to store each pair in the hash table.\n",
        "    - The keys in a dictionary must be hashable (i.e., they must have a hash code).\n",
        "    - When you look up a value in a dictionary, Python uses the hash code of the key to quickly find the corresponding value in the hash table.\n",
        "\n",
        "9. Can lists contain different data types in Python ?\n",
        "  - In Python, lists can contain heterogeneous data types and objects. For instance, integers, strings, and even functions can be stored within the same list.\n",
        "\n",
        "10.  Explain why strings are immutable in Python.\n",
        "  - Strings Are Immutable in Python:  \n",
        "      - __Efficiency:__ Immutable strings save memory and reduce processing overhead by enabling techniques like interning and memory sharing.  \n",
        "      - __Thread Safety:__ Immutability makes strings safe to use in multi-threaded applications.  \n",
        "      - __Predictability:__ Immutable objects help prevent bugs because you can be sure the string won't change unexpectedly.  \n",
        "      - __Hashing Integrity:__ Strings can be reliably used as dictionary keys and set elements because their hash values remain constant.  \n",
        "      - __Garbage Collection:__ It simplifies memory management and garbage collection since the string’s value doesn’t change over time.\n",
        "\n",
        "11. What advantages do dictionaries offer over lists for certain tasks ?\n",
        "  - Dictionaries excel over lists for tasks involving quick data retrieval and mapping relationships, due to their ability to access values by keys rather than indices, offering faster lookup times.  \n",
        "  __Fast Data Retrieval:__ Dictionaries use a hash table implementation, allowing for near-instantaneous access to values based on their associated keys, unlike lists which require sequential searching.  \n",
        "  __Key-Value Pair Organization:__ Dictionaries are designed to store data as key-value pairs, making it easy to associate and retrieve related information.  \n",
        "  __Mapping Relationships:__ Dictionaries are well-suited for representing relationships between items, where keys can represent entities and values represent their associated data.  \n",
        "  __Dynamic Data Structure:__ Dictionaries are mutable, meaning you can add, update, or remove key-value pairs as needed, providing flexibility in managing data.  \n",
        "  __Memory Efficiency:__ While dictionaries might use slightly more memory due to the overhead of storing keys and values, they are often more efficient for storing and accessing large datasets because of their fast retrieval mechanism.  \n",
        "  __Built-in Methods:__ Python dictionaries offer a variety of built-in methods (e.g., get(), keys(), values(), items()) for easy data manipulation and iteration.  \n",
        "  __Readability:__ Dictionaries can make code easier to read and understand, especially when working with key-value pairs, as opposed to using a list of lists or tuples.\n",
        "\n",
        "12. Describe a scenario where using a tuple would be preferable over a list.\n",
        "  - In Python, tuples and lists are both used to store collections of elements, but there are distinct situations where using a tuple is preferable over a list. One key difference between the two is that tuples are immutable, meaning their values cannot be changed after they are created, whereas lists are mutable, allowing you to modify their contents.  \n",
        "  __Immutability:__ Since the coordinates are fixed and you don’t need to change them, using a tuple ensures that the data cannot be accidentally modified during the execution of the program.  \n",
        "  __Efficiency:__ Tuples are generally more memory-efficient than lists because they are immutable. This can be beneficial when you have many such data collections, like coordinates for several locations.  \n",
        "  __Semantic Clarity:__ Using a tuple can communicate to other developers (or even your future self) that the values inside the tuple should not change, making the code easier to understand.  \n",
        "  __Hashability:__ Since tuples are immutable, they can be used as keys in dictionaries or as elements in sets, which lists cannot. If you need to use the coordinates as keys in a dictionary (e.g., mapping coordinates to a specific location), a tuple would be required.\n",
        "\n",
        "13. How do sets handle duplicate values in Python ?\n",
        "  - Here are some of the features of sets in Python: Duplicate items are not allowed. If items appear multiple times, only one will be recognized in the set. The items in a set are unordered.\n",
        "\n",
        "14. How does the “in” keyword work differently for lists and dictionaries ?\n",
        "  - The in keyword in Python is used to check for the existence of an element in a collection. However, its behavior differs between lists and dictionaries because of the structure and organization of these data types. Let’s break down how the in keyword works differently for both:  \n",
        "  ___Using in with Lists___  \n",
        "  When the in keyword is used with a list, Python checks if a specific value is present in the list. The list is an ordered collection that stores values in a sequence, so Python performs a sequential search through the list to find the given value.  \n",
        "  _Example with a List:_  \n",
        "  my_list = [10, 20, 30, 40] #Checking if a value is in the list  \n",
        "  print(20 in my_list)  # Output: True  \n",
        "  print(50 in my_list)  # Output: False  \n",
        "  __How it works:__ The in keyword checks if the value 20 exists in my_list. It scans through the list and compares each element to 20.  \n",
        "  __Time Complexity:__ The search through a list is O(n), where n is the number of elements in the list. In the worst case, Python must check every element until it finds a match (or determines there is no match).  \n",
        "  ___Using in with Dictionaries___  \n",
        "  In a dictionary, the in keyword checks for the existence of a key in the dictionary, not the value. A dictionary is a collection of key-value pairs, and Python's in keyword is optimized to search the dictionary's keys quickly.  \n",
        "  _Example with a Dictionary (Checking for Keys):_  \n",
        "  my_dict = {\"a\": 1, \"b\": 2, \"c\": 3} #Checking if a key is in the dictionary  \n",
        "  print(\"b\" in my_dict)  # Output: True  \n",
        "  print(\"d\" in my_dict)  # Output: False  \n",
        "  __How it works:__ The in keyword checks if the key \"b\" is present in my_dict. Python looks through the dictionary’s keys to see if the key \"b\" exists.  \n",
        "  __Time Complexity:__ Checking for a key in a dictionary is O(1) on average, thanks to the underlying hash table structure that allows constant-time lookups.\n",
        "\n",
        "15. Can you modify the elements of a tuple? Explain why or why not ?\n",
        "  - No, we cannot directly modify the elements of a tuple in Python because tuples are immutable meaning their elements cannot be changed after creation.  \n",
        "  ___Explanation:___  \n",
        "  __Immutability:__ Tuples are designed to be immutable, meaning once a tuple is created, its elements cannot be altered, added to, or removed.  \n",
        "  __Purpose:__ This immutability provides several advantages:  \n",
        "      - Data Integrity: Ensures that the data within a tuple remains consistent and predictable, preventing accidental or unintended changes.  \n",
        "      - Hashing: Immutable objects like tuples can be used as keys in dictionaries or as elements in sets because their hash values remain constant.  \n",
        "      - Efficiency: The immutability of tuples can lead to some performance optimizations in certain scenarios.  \n",
        "\n",
        "      __Alternative:__ If we need a mutable sequence (where elements can be changed), we should use a list instead of a tuple.  \n",
        "      _Example:_  \n",
        "      my_tuple = (1, 2, 3) #Attempting to modify a tuple element will raise a TypeError  \n",
        "      my_tuple[0] = 4  # This will cause an error\n",
        "\n",
        "16. What is a nested dictionary, and give an example of its use case ?\n",
        "  - In Python, a nested dictionary is a dictionary where the values are themselves dictionaries, allowing for a hierarchical or tree-like data structure. A use case is representing an organizational chart, where departments are keys and employee details are nested dictionaries within them.  \n",
        "  _Example:_ #Nested dictionary representing an organizational chart.  \n",
        "  company_org_chart = {  \n",
        "    \"Marketing\": {  \n",
        "      \"ID234\": \"Jane Smith\",  \n",
        "      \"ID235\": \"John Doe\"  \n",
        "      },\n",
        "      \n",
        "      \n",
        "      \"Sales\": {  \n",
        "      \"ID123\": \"Bob Johnson\",  \n",
        "      \"ID122\": \"David Lee\"  \n",
        "      },  \n",
        "    \n",
        "    \"Engineering\": {  \n",
        "      \"ID303\": \"Radhika Potlapally\",  \n",
        "      \"ID321\": \"Maryam Samimi\"  \n",
        "      }  \n",
        "      }  # Accessing a nested value  \n",
        "      print(company_org_chart[\"Sales\"][\"ID122\"]) # Output: David Lee  \n",
        "      print(company_org_chart[\"Engineering\"][\"ID321\"]) # Output: Maryam Samimi  \n",
        "      _Explanation:_  \n",
        "      - The outer dictionary company_org_chart has keys like \"Marketing\", \"Sales\", and \"Engineering\", which represent departments.  \n",
        "      - The values associated with these keys are themselves dictionaries that store employee information (employee ID and name).  \n",
        "      - To access a specific employee's name, you need to access the outer key (department) and then the inner key (employee ID).\n",
        "\n",
        "17. Describe the time complexity of accessing elements in a dictionary.\n",
        "  - Similar to the insertion operation, dictionary lookups in Python also have an average time complexity of O(1). This means that, on average, the time taken to retrieve an element from a dictionary is constant and does not depend on the size of the dictionary.\n",
        "\n",
        "18. In what situations are lists preferred over dictionaries ?\n",
        "  - For quick data look-ups, configurations, or caches, favor dictionaries. For ordered collections and sequence operations, such as maintaining a stack or queue, lists are more suitable  \n",
        "  ___When to Prefer Lists Over Dictionaries___  \n",
        "    - Order matters (e.g., processing items in the order they were added).  \n",
        "    - Access by index is important (e.g., retrieving or modifying items at specific positions)  \n",
        "    - Need to store duplicate values.  \n",
        "    - When need basic iteration or simple operations like sorting or appending.  \n",
        "    - The collection is small or fixed-size.  \n",
        "    - When we don’t need fast lookups by key.  \n",
        "    - When we need a simple, linear collection of items.  \n",
        "  ___When to Use Dictionaries Instead___  \n",
        "    - If we need fast lookups by key (e.g., mapping usernames to user details).  \n",
        "    - If our collection consists of key-value pairs (e.g., a phonebook).  \n",
        "    - If we need to ensure uniqueness of keys (e.g., storing user IDs).  \n",
        "    - If the order of elements doesn’t matter\n",
        "\n",
        "      In summary, lists are ideal when we need an ordered, indexed collection, especially when we expect to have duplicate values or don’t need fast key-based lookups. Dictionaries are better when we need to map unique keys to values and require efficient lookups by key.\n",
        "\n",
        "19. Why are dictionaries considered unordered, and how does that affect data retrieval ?\n",
        "  - Dictionaries are considered unordered because they store data as key-value pairs, and the order in which these pairs are inserted doesn't affect how they are stored or retrieved; accessing data relies on keys, not position  \n",
        "  ___Here's a more detailed explanation:___  \n",
        "  __Unordered Nature:__ Unlike lists or tuples, dictionaries don't maintain a specific order of items based on insertion.  \n",
        "  __Key-Value Pairs:__ Dictionaries store data as key-value pairs, where each key is unique and maps to a specific value.  \n",
        "  __No Indexing:__ You cannot access elements in a dictionary using numerical indices (like my_dict[0] or my_dict[1]).  \n",
        "  __Retrieval by Key:__ To retrieve a value, you use the corresponding key, which allows for fast and efficient lookups.  \n",
        "  __Python 3.7 and Later:__ While dictionaries are generally considered unordered, in Python 3.7 and later, dictionaries do preserve insertion order as an implementation detail, but this is not a guaranteed behavior, and the primary focus remains on key-based access.\n",
        "\n",
        "20. Explain the difference between a list and a dictionary in terms of data retrieval\n",
        "  - In terms of data retrieval, lists use numerical indices (starting from 0) for accessing elements, while dictionaries use keys to access associated values, offering significantly faster lookups than lists.  \n",
        "  ___Lists:___  \n",
        "      - __Access:__ Elements in a list are accessed by their position (index), which is a numerical value starting from 0.  \n",
        "      - __Retrieval Speed:__ Searching for a specific element in a list can be slow, especially for large lists, as it requires iterating through the list until the element is found (linear time complexity, O(n)).  \n",
        "      - __Example:__  my_list = [10, 20, 30, 40] To access the value 30, you would use my_list[2].\n",
        "\n",
        "     ___Dictionaries:___  \n",
        "      - __Access:__ Elements in a dictionary are accessed by their unique key, which can be any immutable data type (like strings, numbers, or tuples).  \n",
        "      - __Retrieval Speed:__ Dictionaries use a hash table, allowing for very fast lookups (average-case constant time complexity, O(1)).  \n",
        "      - __Example:__ my_dict = {\"name\": \"Alice\", \"age\": 30} To access the value 30, you would use my_dict[\"age\"].\n",
        "\n",
        "\n"
      ],
      "metadata": {
        "id": "jjFv8k7YaYmY"
      }
    },
    {
      "cell_type": "code",
      "source": [
        "#1. Write a code to create a string with your name and print it\n",
        "name = \"Deepak\"\n",
        "print(name)"
      ],
      "metadata": {
        "colab": {
          "base_uri": "https://localhost:8080/"
        },
        "id": "Y5CQOuVU1QWD",
        "outputId": "7b64b667-a55a-4cba-ddda-a5285a4874d9"
      },
      "execution_count": null,
      "outputs": [
        {
          "output_type": "stream",
          "name": "stdout",
          "text": [
            "Deepak\n"
          ]
        }
      ]
    },
    {
      "cell_type": "code",
      "source": [
        "#2. Write a code to find the length of the string \"Hello World\"\n",
        "string = \"Hello World\"\n",
        "print(len(string))"
      ],
      "metadata": {
        "colab": {
          "base_uri": "https://localhost:8080/"
        },
        "id": "2iRz6KBx-i4D",
        "outputId": "10f56c4f-9237-4e34-ce2c-134dafd99bee"
      },
      "execution_count": null,
      "outputs": [
        {
          "output_type": "stream",
          "name": "stdout",
          "text": [
            "11\n"
          ]
        }
      ]
    },
    {
      "cell_type": "code",
      "source": [
        "#3.  Write a code to slice the first 3 characters from the string \"Python Programming\".\n",
        "string = \"Python Programming\"\n",
        "print(string[:3])"
      ],
      "metadata": {
        "colab": {
          "base_uri": "https://localhost:8080/"
        },
        "id": "i1fTeQl7-muJ",
        "outputId": "f3c0edee-2cfc-440e-97ff-bdd3f034c754"
      },
      "execution_count": null,
      "outputs": [
        {
          "output_type": "stream",
          "name": "stdout",
          "text": [
            "Pyt\n"
          ]
        }
      ]
    },
    {
      "cell_type": "code",
      "source": [
        "#4.  Write a code to convert the string \"hello\" to uppercase.\n",
        "string = \"hello\"\n",
        "print(string.upper())"
      ],
      "metadata": {
        "colab": {
          "base_uri": "https://localhost:8080/"
        },
        "id": "VBKl-KFr-rIY",
        "outputId": "4626f0f4-8cdb-4caa-ce8a-f9cd88a9b960"
      },
      "execution_count": null,
      "outputs": [
        {
          "output_type": "stream",
          "name": "stdout",
          "text": [
            "HELLO\n"
          ]
        }
      ]
    },
    {
      "cell_type": "code",
      "source": [
        "#5.  Write a code to replace the word \"apple\" with \"orange\" in the string \"I like apple\".\n",
        "string = \"I like apple\"\n",
        "print(string.replace(\"apple\", \"orange\"))"
      ],
      "metadata": {
        "colab": {
          "base_uri": "https://localhost:8080/"
        },
        "id": "aqGQf4NR-ubz",
        "outputId": "837d9a22-d5b9-43de-aa1a-a97677703ce4"
      },
      "execution_count": null,
      "outputs": [
        {
          "output_type": "stream",
          "name": "stdout",
          "text": [
            "I like orange\n"
          ]
        }
      ]
    },
    {
      "cell_type": "code",
      "source": [
        "#6. Write a code to create a list with numbers 1 to 5 and print it.\n",
        "list = [1, 2, 3, 4, 5]\n",
        "print(list)"
      ],
      "metadata": {
        "colab": {
          "base_uri": "https://localhost:8080/"
        },
        "id": "Z7e8dxwM-yIi",
        "outputId": "36d180e8-8619-4949-df33-70d2418bb810"
      },
      "execution_count": null,
      "outputs": [
        {
          "output_type": "stream",
          "name": "stdout",
          "text": [
            "[1, 2, 3, 4, 5]\n"
          ]
        }
      ]
    },
    {
      "cell_type": "code",
      "source": [
        "#7.  Write a code to append the number 10 to the list [1, 2, 3, 4].\n",
        "list = [1, 2, 3, 4]\n",
        "list.append(10)\n",
        "print(list)"
      ],
      "metadata": {
        "colab": {
          "base_uri": "https://localhost:8080/"
        },
        "id": "rnrc0F_x-0v6",
        "outputId": "8f34541c-4eff-43a9-8a97-76d3ec5ddde8"
      },
      "execution_count": null,
      "outputs": [
        {
          "output_type": "stream",
          "name": "stdout",
          "text": [
            "[1, 2, 3, 4, 10]\n"
          ]
        }
      ]
    },
    {
      "cell_type": "code",
      "source": [
        "#8. Write a code to remove the number 3 from the list [1, 2, 3, 4, 5].\n",
        "list = [1,2,3,4,5]\n",
        "list.remove(3)\n",
        "print(list)"
      ],
      "metadata": {
        "colab": {
          "base_uri": "https://localhost:8080/"
        },
        "id": "iT6X8rrE-3aM",
        "outputId": "e6c791d9-f341-43aa-d7a1-d0c8fab6e672"
      },
      "execution_count": null,
      "outputs": [
        {
          "output_type": "stream",
          "name": "stdout",
          "text": [
            "[1, 2, 4, 5]\n"
          ]
        }
      ]
    },
    {
      "cell_type": "code",
      "source": [
        "#9.  Write a code to access the second element in the list ['a', 'b', 'c', 'd'].\n",
        "list = ['a', 'b', 'c', 'd']\n",
        "print(list[1])"
      ],
      "metadata": {
        "colab": {
          "base_uri": "https://localhost:8080/"
        },
        "id": "bAO8Dplo-62Q",
        "outputId": "c16aa07e-47b7-4f14-c071-174196c0e726"
      },
      "execution_count": null,
      "outputs": [
        {
          "output_type": "stream",
          "name": "stdout",
          "text": [
            "b\n"
          ]
        }
      ]
    },
    {
      "cell_type": "code",
      "source": [
        "#10. Write a code to reverse the list [10, 20, 30, 40, 50].\n",
        "list = [10, 20, 30, 40, 50]\n",
        "print(list[::-1])\n"
      ],
      "metadata": {
        "colab": {
          "base_uri": "https://localhost:8080/"
        },
        "id": "jfpHtVbv-8Ak",
        "outputId": "9c5c757b-6fbe-45ef-83bd-31dbf11f3cae"
      },
      "execution_count": null,
      "outputs": [
        {
          "output_type": "stream",
          "name": "stdout",
          "text": [
            "[50, 40, 30, 20, 10]\n"
          ]
        }
      ]
    },
    {
      "cell_type": "code",
      "source": [
        "#11. Write a code to create a tuple with the elements 100, 200, 300 and print it.\n",
        "my_tuple = (100, 200, 300)\n",
        "print(my_tuple)\n"
      ],
      "metadata": {
        "colab": {
          "base_uri": "https://localhost:8080/"
        },
        "id": "Ew1cB4XE--XP",
        "outputId": "c2eb0b18-bd32-43b4-fe53-c7b6196bb1f9"
      },
      "execution_count": null,
      "outputs": [
        {
          "output_type": "stream",
          "name": "stdout",
          "text": [
            "(100, 200, 300)\n"
          ]
        }
      ]
    },
    {
      "cell_type": "code",
      "source": [
        "#12.  Write a code to access the second-to-last element of the tuple ('red', 'green', 'blue', 'yellow').\n",
        "my_tuple = ('red', 'green', 'blue', 'yellow')\n",
        "print(my_tuple[-2])"
      ],
      "metadata": {
        "colab": {
          "base_uri": "https://localhost:8080/"
        },
        "id": "ljYa6Oyf_Bim",
        "outputId": "80a2a29a-e678-45b0-dd8e-daff677b11c8"
      },
      "execution_count": null,
      "outputs": [
        {
          "output_type": "stream",
          "name": "stdout",
          "text": [
            "blue\n"
          ]
        }
      ]
    },
    {
      "cell_type": "code",
      "source": [
        "#13. Write a code to find the minimum number in the tuple (10, 20, 5, 15).\n",
        "my_tuple = (10, 20, 5, 15)\n",
        "print(min(my_tuple))"
      ],
      "metadata": {
        "colab": {
          "base_uri": "https://localhost:8080/"
        },
        "id": "JRdnadcp_EGn",
        "outputId": "234c61fc-391c-45fc-a354-0306a49ba60d"
      },
      "execution_count": null,
      "outputs": [
        {
          "output_type": "stream",
          "name": "stdout",
          "text": [
            "5\n"
          ]
        }
      ]
    },
    {
      "cell_type": "code",
      "source": [
        "#14. Write a code to find the index of the element \"cat\" in the tuple ('dog', 'cat', 'rabbit').\n",
        "my_tuple = ('dog', 'cat', 'rabbit')\n",
        "print(my_tuple.index('cat'))"
      ],
      "metadata": {
        "colab": {
          "base_uri": "https://localhost:8080/"
        },
        "id": "Cq_r44EJ_FId",
        "outputId": "2d607dae-1ad5-4579-fb31-0af7a2f6220e"
      },
      "execution_count": null,
      "outputs": [
        {
          "output_type": "stream",
          "name": "stdout",
          "text": [
            "1\n"
          ]
        }
      ]
    },
    {
      "cell_type": "code",
      "source": [
        "#15.  Write a code to create a tuple containing three different fruits and check if \"kiwi\" is in it.\n",
        "# Creating a tuple with three fruits\n",
        "fruits = (\"apple\", \"banana\", \"mango\")\n",
        "\n",
        "# Checking if \"kiwi\" is in the tuple\n",
        "if \"kiwi\" in fruits:\n",
        "    print(\"Kiwi is in the tuple.\")\n",
        "else:\n",
        "    print(\"Kiwi is not in the tuple.\")\n"
      ],
      "metadata": {
        "colab": {
          "base_uri": "https://localhost:8080/"
        },
        "id": "sU6_WQzE_HdZ",
        "outputId": "d6d998e0-b17d-4f7e-aaa9-db4bd383fe07"
      },
      "execution_count": null,
      "outputs": [
        {
          "output_type": "stream",
          "name": "stdout",
          "text": [
            "Kiwi is not in the tuple.\n"
          ]
        }
      ]
    },
    {
      "cell_type": "code",
      "source": [
        "#16. Write a code to create a set with the elements 'a', 'b', 'c' and print it.\n",
        "# Creating a set\n",
        "my_set = {'a', 'b', 'c'}\n",
        "print(my_set)"
      ],
      "metadata": {
        "colab": {
          "base_uri": "https://localhost:8080/"
        },
        "id": "3h63e2PB_NW1",
        "outputId": "1e5fd6fc-51dd-4ae3-f0cf-8d96203fc2d8"
      },
      "execution_count": null,
      "outputs": [
        {
          "output_type": "stream",
          "name": "stdout",
          "text": [
            "{'a', 'b', 'c'}\n"
          ]
        }
      ]
    },
    {
      "cell_type": "code",
      "source": [
        "#17.  Write a code to clear all elements from the set {1, 2, 3, 4, 5}\n",
        "# Creating a set\n",
        "my_set = {1, 2, 3, 4, 5}\n",
        "my_set.clear()\n",
        "print(my_set)"
      ],
      "metadata": {
        "colab": {
          "base_uri": "https://localhost:8080/"
        },
        "id": "BVrjqUqG_Oev",
        "outputId": "24c341c3-f029-4f2a-c144-8ff9d632f392"
      },
      "execution_count": null,
      "outputs": [
        {
          "output_type": "stream",
          "name": "stdout",
          "text": [
            "set()\n"
          ]
        }
      ]
    },
    {
      "cell_type": "code",
      "source": [
        "#18. Write a code to remove the element 4 from the set {1, 2, 3, 4}\n",
        "# Creating a set\n",
        "my_set = {1, 2, 3, 4}\n",
        "my_set.discard(4)\n",
        "print(my_set)"
      ],
      "metadata": {
        "colab": {
          "base_uri": "https://localhost:8080/"
        },
        "id": "idkPTnOQ_Q2C",
        "outputId": "a040e98f-7ff8-4ac5-dd59-372f27b4d148"
      },
      "execution_count": null,
      "outputs": [
        {
          "output_type": "stream",
          "name": "stdout",
          "text": [
            "{1, 2, 3}\n"
          ]
        }
      ]
    },
    {
      "cell_type": "code",
      "source": [
        "#19.  Write a code to find the union of two sets {1, 2, 3} and {3, 4, 5}.\n",
        "# Creating two sets\n",
        "set1 = {1, 2, 3}\n",
        "set2 = {3, 4, 5}\n",
        "union_set = set1.union(set2)\n",
        "print(union_set)"
      ],
      "metadata": {
        "colab": {
          "base_uri": "https://localhost:8080/"
        },
        "id": "Zzueufvf_WYW",
        "outputId": "e6735588-7463-4a85-ea9f-a6cb94ba4040"
      },
      "execution_count": null,
      "outputs": [
        {
          "output_type": "stream",
          "name": "stdout",
          "text": [
            "{1, 2, 3, 4, 5}\n"
          ]
        }
      ]
    },
    {
      "cell_type": "code",
      "source": [
        "#20.  Write a code to find the intersection of two sets {1, 2, 3} and {2, 3, 4}.\n",
        "# Creating two sets\n",
        "set1 = {1, 2, 3}\n",
        "set2 = {2, 3, 4}\n",
        "intersection_set = set1.intersection(set2)\n",
        "print(intersection_set)"
      ],
      "metadata": {
        "colab": {
          "base_uri": "https://localhost:8080/"
        },
        "id": "09qJo9aT_Y_I",
        "outputId": "2bf7eac1-2ef0-4749-b244-f04d18d21304"
      },
      "execution_count": null,
      "outputs": [
        {
          "output_type": "stream",
          "name": "stdout",
          "text": [
            "{2, 3}\n"
          ]
        }
      ]
    },
    {
      "cell_type": "code",
      "source": [
        "#21.  Write a code to create a dictionary with the keys \"name\", \"age\", and \"city\", and print it.\n",
        "# Creating a dictionary\n",
        "person = {\n",
        "    \"name\": \"Deepak\",\n",
        "    \"age\": 34,\n",
        "    \"city\": \"Bikaner\"\n",
        "}\n",
        "print(person)"
      ],
      "metadata": {
        "colab": {
          "base_uri": "https://localhost:8080/"
        },
        "id": "AmolC7AB_bu5",
        "outputId": "3b31000e-a20a-4e7b-cec8-f8eb13f6f0c7"
      },
      "execution_count": null,
      "outputs": [
        {
          "output_type": "stream",
          "name": "stdout",
          "text": [
            "{'name': 'Deepak', 'age': 34, 'city': 'Bikaner'}\n"
          ]
        }
      ]
    },
    {
      "cell_type": "code",
      "source": [
        "#22.  Write a code to add a new key-value pair \"country\": \"USA\" to the dictionary {'name': 'John', 'age': 25}.\n",
        "# Creating the dictionary\n",
        "person = {'name': 'John', 'age': 25}\n",
        "person['country'] = 'USA'\n",
        "print(person)"
      ],
      "metadata": {
        "colab": {
          "base_uri": "https://localhost:8080/"
        },
        "id": "auuPmMpp_tBv",
        "outputId": "ab4795a6-9b3c-496f-aab9-113caccf49b5"
      },
      "execution_count": null,
      "outputs": [
        {
          "output_type": "stream",
          "name": "stdout",
          "text": [
            "{'name': 'John', 'age': 25, 'country': 'USA'}\n"
          ]
        }
      ]
    },
    {
      "cell_type": "code",
      "source": [
        "#23. Write a code to access the value associated with the key \"name\" in the dictionary {'name': 'Alice', 'age': 30}.\n",
        "# Creating the dictionary\n",
        "person = {'name': 'Alice', 'age': 30}\n",
        "name_value = person['name']\n",
        "print(name_value)"
      ],
      "metadata": {
        "colab": {
          "base_uri": "https://localhost:8080/"
        },
        "id": "AKgaDYAV_5T7",
        "outputId": "2e541d8c-bca6-49d3-db05-baa811f0a78a"
      },
      "execution_count": null,
      "outputs": [
        {
          "output_type": "stream",
          "name": "stdout",
          "text": [
            "Alice\n"
          ]
        }
      ]
    },
    {
      "cell_type": "code",
      "source": [
        "#24. Write a code to remove the key \"age\" from the dictionary {'name': 'Bob', 'age': 22, 'city': 'New York'}.\n",
        "# Creating the dictionary\n",
        "person = {'name': 'Bob', 'age': 22, 'city': 'New York'}\n",
        "person.pop('age')\n",
        "print(person)"
      ],
      "metadata": {
        "colab": {
          "base_uri": "https://localhost:8080/"
        },
        "id": "H2e--5xlAEiq",
        "outputId": "62e868e3-6bb4-4725-fb8a-ce43ee1bc0eb"
      },
      "execution_count": null,
      "outputs": [
        {
          "output_type": "stream",
          "name": "stdout",
          "text": [
            "{'name': 'Bob', 'city': 'New York'}\n"
          ]
        }
      ]
    },
    {
      "cell_type": "code",
      "source": [
        "#25.  Write a code to check if the key \"city\" exists in the dictionary {'name': 'Alice', 'city': 'Paris'}.\n",
        "# Creating the dictionary\n",
        "person = {'name': 'Alice', 'city': 'Paris'}\n",
        "if \"city\" in person:\n",
        "    print(\"Key 'city' exists in the dictionary.\")\n",
        "else:\n",
        "    print(\"Key 'city' does not exist in the dictionary.\")"
      ],
      "metadata": {
        "colab": {
          "base_uri": "https://localhost:8080/"
        },
        "id": "42tS1IHHAKbN",
        "outputId": "836da6a1-4eff-4fc6-918d-0900f981dca5"
      },
      "execution_count": null,
      "outputs": [
        {
          "output_type": "stream",
          "name": "stdout",
          "text": [
            "Key 'city' exists in the dictionary.\n"
          ]
        }
      ]
    },
    {
      "cell_type": "code",
      "source": [
        "#26.  Write a code to create a list, a tuple, and a dictionary, and print them all.\n",
        "my_list = [1, 2, 3, 4, 5]\n",
        "my_tuple = (10, 20, 30)\n",
        "my_dict = {\"name\": \"Deepak\", \"age\": 34, \"city\": \"Bikaner\"}\n",
        "print(\"List:\", my_list)\n",
        "print(\"Tuple:\", my_tuple)\n",
        "print(\"Dictionary:\", my_dict)"
      ],
      "metadata": {
        "colab": {
          "base_uri": "https://localhost:8080/"
        },
        "id": "ZPlCc9HBAOcQ",
        "outputId": "d6a8c24c-bf1b-49e9-9337-696a3df9e45a"
      },
      "execution_count": null,
      "outputs": [
        {
          "output_type": "stream",
          "name": "stdout",
          "text": [
            "List: [1, 2, 3, 4, 5]\n",
            "Tuple: (10, 20, 30)\n",
            "Dictionary: {'name': 'Deepak', 'age': 34, 'city': 'Bikaner'}\n"
          ]
        }
      ]
    },
    {
      "cell_type": "code",
      "source": [
        "#27. Write a code to create a list of 5 random numbers between 1 and 100, sort it in ascending order, and print the result.(replaced)\n",
        "import random\n",
        "random_numbers = random.sample(range(1, 101), 5)\n",
        "random_numbers.sort()\n",
        "print(\"Sorted list:\", random_numbers)"
      ],
      "metadata": {
        "colab": {
          "base_uri": "https://localhost:8080/"
        },
        "id": "_jWbOU8jAbef",
        "outputId": "0ed3d49c-32a5-4f14-c8b4-d3abca5f4eb0"
      },
      "execution_count": null,
      "outputs": [
        {
          "output_type": "stream",
          "name": "stdout",
          "text": [
            "Sorted list: [9, 17, 43, 68, 99]\n"
          ]
        }
      ]
    },
    {
      "cell_type": "code",
      "source": [
        "#28.  Write a code to create a list with strings and print the element at the third index\n",
        "my_list = [\"apple\", \"banana\", \"cherry\", \"date\", \"elderberry\"]\n",
        "print(\"Element at third index:\", my_list[3])"
      ],
      "metadata": {
        "colab": {
          "base_uri": "https://localhost:8080/"
        },
        "id": "aA1w2ZDSAipi",
        "outputId": "d3c330cf-6809-4e34-be0e-1402ad5929db"
      },
      "execution_count": null,
      "outputs": [
        {
          "output_type": "stream",
          "name": "stdout",
          "text": [
            "Element at third index: date\n"
          ]
        }
      ]
    },
    {
      "cell_type": "code",
      "source": [
        "#29.  Write a code to combine two dictionaries into one and print the result\n",
        "dict1 = {'a': 1, 'b': 2}\n",
        "dict2 = {'c': 3, 'd': 4}\n",
        "combined_dict = {**dict1, **dict2}\n",
        "print(\"Combined dictionary:\", combined_dict)"
      ],
      "metadata": {
        "colab": {
          "base_uri": "https://localhost:8080/"
        },
        "id": "Daec3VlkApQm",
        "outputId": "9eb06a40-76e1-47a3-8b9d-e292a87e009a"
      },
      "execution_count": null,
      "outputs": [
        {
          "output_type": "stream",
          "name": "stdout",
          "text": [
            "Combined dictionary: {'a': 1, 'b': 2, 'c': 3, 'd': 4}\n"
          ]
        }
      ]
    },
    {
      "cell_type": "code",
      "source": [
        "#30. Write a code to convert a list of strings into a set.\n",
        "my_list = [\"apple\", \"banana\", \"cherry\", \"apple\", \"banana\"]\n",
        "my_set = set(my_list)\n",
        "print(\"Set:\", my_set)"
      ],
      "metadata": {
        "colab": {
          "base_uri": "https://localhost:8080/"
        },
        "id": "qSTsdh7WAruH",
        "outputId": "3039a4cf-efa1-4408-d0ee-945353cd2c92"
      },
      "execution_count": null,
      "outputs": [
        {
          "output_type": "stream",
          "name": "stdout",
          "text": [
            "Set: {'apple', 'banana', 'cherry'}\n"
          ]
        }
      ]
    }
  ]
}